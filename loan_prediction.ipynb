{
  "cells": [
    {
      "cell_type": "markdown",
      "metadata": {
        "id": "ngeRvueDqEDN"
      },
      "source": [
        "# Importing Libraries & Loading Data"
      ]
    },
    {
      "cell_type": "code",
      "execution_count": null,
      "metadata": {
        "colab": {
          "base_uri": "https://localhost:8080/"
        },
        "id": "HcNRhlwLiJ_K",
        "outputId": "6510d076-763a-439a-8d3c-ca0c579ac7c0"
      },
      "outputs": [
        {
          "name": "stdout",
          "output_type": "stream",
          "text": [
            "Looking in indexes: https://pypi.org/simple, https://us-python.pkg.dev/colab-wheels/public/simple/\n",
            "Requirement already satisfied: xgboost in /usr/local/lib/python3.8/dist-packages (0.90)\n",
            "Requirement already satisfied: numpy in /usr/local/lib/python3.8/dist-packages (from xgboost) (1.21.6)\n",
            "Requirement already satisfied: scipy in /usr/local/lib/python3.8/dist-packages (from xgboost) (1.7.3)\n"
          ]
        }
      ],
      "source": [
        "import pandas as pd\n",
        "import numpy as np\n",
        "from sklearn.model_selection import train_test_split,RandomizedSearchCV,GridSearchCV\n",
        "from sklearn.preprocessing import StandardScaler,MinMaxScaler,RobustScaler,LabelEncoder\n",
        "from sklearn.svm import SVC\n",
        "from  sklearn.tree import DecisionTreeClassifier\n",
        "from sklearn.ensemble import RandomForestClassifier,GradientBoostingClassifier\n",
        "from sklearn.metrics import accuracy_score,roc_auc_score\n",
        "from sklearn.linear_model import LogisticRegression\n",
        "from sklearn.preprocessing import LabelBinarizer\n",
        "from sklearn import metrics\n",
        "\n",
        "import matplotlib.pyplot as plt\n",
        "# pip install xgboost\n",
        "import xgboost as xgb\n",
        "from xgboost import XGBClassifier"
      ]
    },
    {
      "cell_type": "code",
      "execution_count": null,
      "metadata": {
        "colab": {
          "base_uri": "https://localhost:8080/",
          "height": 227
        },
        "id": "QHrdAKf9oER_",
        "outputId": "a9862f9e-63a3-426a-8b47-20897666a443"
      },
      "outputs": [
        {
          "name": "stdout",
          "output_type": "stream",
          "text": [
            "(252000, 13)\n"
          ]
        },
        {
          "data": {
            "application/vnd.google.colaboratory.module+javascript": "\n      import \"https://ssl.gstatic.com/colaboratory/data_table/fb998edc550c7947/data_table.js\";\n\n      window.createDataTable({\n        data: [[{\n            'v': 0,\n            'f': \"0\",\n        },\n{\n            'v': 1,\n            'f': \"1\",\n        },\n{\n            'v': 1303834,\n            'f': \"1303834\",\n        },\n{\n            'v': 23,\n            'f': \"23\",\n        },\n{\n            'v': 3,\n            'f': \"3\",\n        },\n\"single\",\n\"rented\",\n\"no\",\n\"Mechanical_engineer\",\n\"Rewa\",\n\"Madhya_Pradesh\",\n{\n            'v': 3,\n            'f': \"3\",\n        },\n{\n            'v': 13,\n            'f': \"13\",\n        },\n{\n            'v': 0,\n            'f': \"0\",\n        }],\n [{\n            'v': 1,\n            'f': \"1\",\n        },\n{\n            'v': 2,\n            'f': \"2\",\n        },\n{\n            'v': 7574516,\n            'f': \"7574516\",\n        },\n{\n            'v': 40,\n            'f': \"40\",\n        },\n{\n            'v': 10,\n            'f': \"10\",\n        },\n\"single\",\n\"rented\",\n\"no\",\n\"Software_Developer\",\n\"Parbhani\",\n\"Maharashtra\",\n{\n            'v': 9,\n            'f': \"9\",\n        },\n{\n            'v': 13,\n            'f': \"13\",\n        },\n{\n            'v': 0,\n            'f': \"0\",\n        }],\n [{\n            'v': 2,\n            'f': \"2\",\n        },\n{\n            'v': 3,\n            'f': \"3\",\n        },\n{\n            'v': 3991815,\n            'f': \"3991815\",\n        },\n{\n            'v': 66,\n            'f': \"66\",\n        },\n{\n            'v': 4,\n            'f': \"4\",\n        },\n\"married\",\n\"rented\",\n\"no\",\n\"Technical_writer\",\n\"Alappuzha\",\n\"Kerala\",\n{\n            'v': 4,\n            'f': \"4\",\n        },\n{\n            'v': 10,\n            'f': \"10\",\n        },\n{\n            'v': 0,\n            'f': \"0\",\n        }],\n [{\n            'v': 3,\n            'f': \"3\",\n        },\n{\n            'v': 4,\n            'f': \"4\",\n        },\n{\n            'v': 6256451,\n            'f': \"6256451\",\n        },\n{\n            'v': 41,\n            'f': \"41\",\n        },\n{\n            'v': 2,\n            'f': \"2\",\n        },\n\"single\",\n\"rented\",\n\"yes\",\n\"Software_Developer\",\n\"Bhubaneswar\",\n\"Odisha\",\n{\n            'v': 2,\n            'f': \"2\",\n        },\n{\n            'v': 12,\n            'f': \"12\",\n        },\n{\n            'v': 1,\n            'f': \"1\",\n        }],\n [{\n            'v': 4,\n            'f': \"4\",\n        },\n{\n            'v': 5,\n            'f': \"5\",\n        },\n{\n            'v': 5768871,\n            'f': \"5768871\",\n        },\n{\n            'v': 47,\n            'f': \"47\",\n        },\n{\n            'v': 11,\n            'f': \"11\",\n        },\n\"single\",\n\"rented\",\n\"no\",\n\"Civil_servant\",\n\"Tiruchirappalli[10]\",\n\"Tamil_Nadu\",\n{\n            'v': 3,\n            'f': \"3\",\n        },\n{\n            'v': 14,\n            'f': \"14\",\n        },\n{\n            'v': 1,\n            'f': \"1\",\n        }]],\n        columns: [[\"number\", \"index\"], [\"number\", \"Id\"], [\"number\", \"Income\"], [\"number\", \"Age\"], [\"number\", \"Experience\"], [\"string\", \"Married/Single\"], [\"string\", \"House_Ownership\"], [\"string\", \"Car_Ownership\"], [\"string\", \"Profession\"], [\"string\", \"CITY\"], [\"string\", \"STATE\"], [\"number\", \"CURRENT_JOB_YRS\"], [\"number\", \"CURRENT_HOUSE_YRS\"], [\"number\", \"Risk_Flag\"]],\n        columnOptions: [{\"width\": \"1px\", \"className\": \"index_column\"}],\n        rowsPerPage: 25,\n        helpUrl: \"https://colab.research.google.com/notebooks/data_table.ipynb\",\n        suppressOutputScrolling: true,\n        minimumWidth: undefined,\n      });\n    ",
            "text/html": [
              "\n",
              "  <div id=\"df-9cc735a4-40b8-427d-8826-4ae4540db633\">\n",
              "    <div class=\"colab-df-container\">\n",
              "      <div>\n",
              "<style scoped>\n",
              "    .dataframe tbody tr th:only-of-type {\n",
              "        vertical-align: middle;\n",
              "    }\n",
              "\n",
              "    .dataframe tbody tr th {\n",
              "        vertical-align: top;\n",
              "    }\n",
              "\n",
              "    .dataframe thead th {\n",
              "        text-align: right;\n",
              "    }\n",
              "</style>\n",
              "<table border=\"1\" class=\"dataframe\">\n",
              "  <thead>\n",
              "    <tr style=\"text-align: right;\">\n",
              "      <th></th>\n",
              "      <th>Id</th>\n",
              "      <th>Income</th>\n",
              "      <th>Age</th>\n",
              "      <th>Experience</th>\n",
              "      <th>Married/Single</th>\n",
              "      <th>House_Ownership</th>\n",
              "      <th>Car_Ownership</th>\n",
              "      <th>Profession</th>\n",
              "      <th>CITY</th>\n",
              "      <th>STATE</th>\n",
              "      <th>CURRENT_JOB_YRS</th>\n",
              "      <th>CURRENT_HOUSE_YRS</th>\n",
              "      <th>Risk_Flag</th>\n",
              "    </tr>\n",
              "  </thead>\n",
              "  <tbody>\n",
              "    <tr>\n",
              "      <th>0</th>\n",
              "      <td>1</td>\n",
              "      <td>1303834</td>\n",
              "      <td>23</td>\n",
              "      <td>3</td>\n",
              "      <td>single</td>\n",
              "      <td>rented</td>\n",
              "      <td>no</td>\n",
              "      <td>Mechanical_engineer</td>\n",
              "      <td>Rewa</td>\n",
              "      <td>Madhya_Pradesh</td>\n",
              "      <td>3</td>\n",
              "      <td>13</td>\n",
              "      <td>0</td>\n",
              "    </tr>\n",
              "    <tr>\n",
              "      <th>1</th>\n",
              "      <td>2</td>\n",
              "      <td>7574516</td>\n",
              "      <td>40</td>\n",
              "      <td>10</td>\n",
              "      <td>single</td>\n",
              "      <td>rented</td>\n",
              "      <td>no</td>\n",
              "      <td>Software_Developer</td>\n",
              "      <td>Parbhani</td>\n",
              "      <td>Maharashtra</td>\n",
              "      <td>9</td>\n",
              "      <td>13</td>\n",
              "      <td>0</td>\n",
              "    </tr>\n",
              "    <tr>\n",
              "      <th>2</th>\n",
              "      <td>3</td>\n",
              "      <td>3991815</td>\n",
              "      <td>66</td>\n",
              "      <td>4</td>\n",
              "      <td>married</td>\n",
              "      <td>rented</td>\n",
              "      <td>no</td>\n",
              "      <td>Technical_writer</td>\n",
              "      <td>Alappuzha</td>\n",
              "      <td>Kerala</td>\n",
              "      <td>4</td>\n",
              "      <td>10</td>\n",
              "      <td>0</td>\n",
              "    </tr>\n",
              "    <tr>\n",
              "      <th>3</th>\n",
              "      <td>4</td>\n",
              "      <td>6256451</td>\n",
              "      <td>41</td>\n",
              "      <td>2</td>\n",
              "      <td>single</td>\n",
              "      <td>rented</td>\n",
              "      <td>yes</td>\n",
              "      <td>Software_Developer</td>\n",
              "      <td>Bhubaneswar</td>\n",
              "      <td>Odisha</td>\n",
              "      <td>2</td>\n",
              "      <td>12</td>\n",
              "      <td>1</td>\n",
              "    </tr>\n",
              "    <tr>\n",
              "      <th>4</th>\n",
              "      <td>5</td>\n",
              "      <td>5768871</td>\n",
              "      <td>47</td>\n",
              "      <td>11</td>\n",
              "      <td>single</td>\n",
              "      <td>rented</td>\n",
              "      <td>no</td>\n",
              "      <td>Civil_servant</td>\n",
              "      <td>Tiruchirappalli[10]</td>\n",
              "      <td>Tamil_Nadu</td>\n",
              "      <td>3</td>\n",
              "      <td>14</td>\n",
              "      <td>1</td>\n",
              "    </tr>\n",
              "  </tbody>\n",
              "</table>\n",
              "</div>\n",
              "      <button class=\"colab-df-convert\" onclick=\"convertToInteractive('df-9cc735a4-40b8-427d-8826-4ae4540db633')\"\n",
              "              title=\"Convert this dataframe to an interactive table.\"\n",
              "              style=\"display:none;\">\n",
              "        \n",
              "  <svg xmlns=\"http://www.w3.org/2000/svg\" height=\"24px\"viewBox=\"0 0 24 24\"\n",
              "       width=\"24px\">\n",
              "    <path d=\"M0 0h24v24H0V0z\" fill=\"none\"/>\n",
              "    <path d=\"M18.56 5.44l.94 2.06.94-2.06 2.06-.94-2.06-.94-.94-2.06-.94 2.06-2.06.94zm-11 1L8.5 8.5l.94-2.06 2.06-.94-2.06-.94L8.5 2.5l-.94 2.06-2.06.94zm10 10l.94 2.06.94-2.06 2.06-.94-2.06-.94-.94-2.06-.94 2.06-2.06.94z\"/><path d=\"M17.41 7.96l-1.37-1.37c-.4-.4-.92-.59-1.43-.59-.52 0-1.04.2-1.43.59L10.3 9.45l-7.72 7.72c-.78.78-.78 2.05 0 2.83L4 21.41c.39.39.9.59 1.41.59.51 0 1.02-.2 1.41-.59l7.78-7.78 2.81-2.81c.8-.78.8-2.07 0-2.86zM5.41 20L4 18.59l7.72-7.72 1.47 1.35L5.41 20z\"/>\n",
              "  </svg>\n",
              "      </button>\n",
              "      \n",
              "  <style>\n",
              "    .colab-df-container {\n",
              "      display:flex;\n",
              "      flex-wrap:wrap;\n",
              "      gap: 12px;\n",
              "    }\n",
              "\n",
              "    .colab-df-convert {\n",
              "      background-color: #E8F0FE;\n",
              "      border: none;\n",
              "      border-radius: 50%;\n",
              "      cursor: pointer;\n",
              "      display: none;\n",
              "      fill: #1967D2;\n",
              "      height: 32px;\n",
              "      padding: 0 0 0 0;\n",
              "      width: 32px;\n",
              "    }\n",
              "\n",
              "    .colab-df-convert:hover {\n",
              "      background-color: #E2EBFA;\n",
              "      box-shadow: 0px 1px 2px rgba(60, 64, 67, 0.3), 0px 1px 3px 1px rgba(60, 64, 67, 0.15);\n",
              "      fill: #174EA6;\n",
              "    }\n",
              "\n",
              "    [theme=dark] .colab-df-convert {\n",
              "      background-color: #3B4455;\n",
              "      fill: #D2E3FC;\n",
              "    }\n",
              "\n",
              "    [theme=dark] .colab-df-convert:hover {\n",
              "      background-color: #434B5C;\n",
              "      box-shadow: 0px 1px 3px 1px rgba(0, 0, 0, 0.15);\n",
              "      filter: drop-shadow(0px 1px 2px rgba(0, 0, 0, 0.3));\n",
              "      fill: #FFFFFF;\n",
              "    }\n",
              "  </style>\n",
              "\n",
              "      <script>\n",
              "        const buttonEl =\n",
              "          document.querySelector('#df-9cc735a4-40b8-427d-8826-4ae4540db633 button.colab-df-convert');\n",
              "        buttonEl.style.display =\n",
              "          google.colab.kernel.accessAllowed ? 'block' : 'none';\n",
              "\n",
              "        async function convertToInteractive(key) {\n",
              "          const element = document.querySelector('#df-9cc735a4-40b8-427d-8826-4ae4540db633');\n",
              "          const dataTable =\n",
              "            await google.colab.kernel.invokeFunction('convertToInteractive',\n",
              "                                                     [key], {});\n",
              "          if (!dataTable) return;\n",
              "\n",
              "          const docLinkHtml = 'Like what you see? Visit the ' +\n",
              "            '<a target=\"_blank\" href=https://colab.research.google.com/notebooks/data_table.ipynb>data table notebook</a>'\n",
              "            + ' to learn more about interactive tables.';\n",
              "          element.innerHTML = '';\n",
              "          dataTable['output_type'] = 'display_data';\n",
              "          await google.colab.output.renderOutput(dataTable, element);\n",
              "          const docLink = document.createElement('div');\n",
              "          docLink.innerHTML = docLinkHtml;\n",
              "          element.appendChild(docLink);\n",
              "        }\n",
              "      </script>\n",
              "    </div>\n",
              "  </div>\n",
              "  "
            ],
            "text/plain": [
              "   Id   Income  Age  Experience Married/Single House_Ownership Car_Ownership  \\\n",
              "0   1  1303834   23           3         single          rented            no   \n",
              "1   2  7574516   40          10         single          rented            no   \n",
              "2   3  3991815   66           4        married          rented            no   \n",
              "3   4  6256451   41           2         single          rented           yes   \n",
              "4   5  5768871   47          11         single          rented            no   \n",
              "\n",
              "            Profession                 CITY           STATE  CURRENT_JOB_YRS  \\\n",
              "0  Mechanical_engineer                 Rewa  Madhya_Pradesh                3   \n",
              "1   Software_Developer             Parbhani     Maharashtra                9   \n",
              "2     Technical_writer            Alappuzha          Kerala                4   \n",
              "3   Software_Developer          Bhubaneswar          Odisha                2   \n",
              "4        Civil_servant  Tiruchirappalli[10]      Tamil_Nadu                3   \n",
              "\n",
              "   CURRENT_HOUSE_YRS  Risk_Flag  \n",
              "0                 13          0  \n",
              "1                 13          0  \n",
              "2                 10          0  \n",
              "3                 12          1  \n",
              "4                 14          1  "
            ]
          },
          "execution_count": 3,
          "metadata": {},
          "output_type": "execute_result"
        }
      ],
      "source": [
        "loan_train=pd.read_csv(\"data/Training Data.csv\")\n",
        "print(loan_train.shape)\n",
        "loan_train.head()"
      ]
    },
    {
      "cell_type": "markdown",
      "metadata": {
        "id": "XsDu2f_8qNiT"
      },
      "source": [
        "# Preprocessing"
      ]
    },
    {
      "attachments": {},
      "cell_type": "markdown",
      "metadata": {
        "id": "A_goerEJC5sj"
      },
      "source": [
        "Dropping columns that are not needed "
      ]
    },
    {
      "cell_type": "code",
      "execution_count": null,
      "metadata": {
        "id": "oT0ZUraJpIkv"
      },
      "outputs": [],
      "source": [
        "loan_train.drop(['Id'],axis=1,inplace=True)"
      ]
    },
    {
      "cell_type": "code",
      "execution_count": null,
      "metadata": {
        "id": "5PHJc5MQ1QOT"
      },
      "outputs": [],
      "source": [
        "loan_train.drop(['CITY'],axis=1,inplace=True)"
      ]
    },
    {
      "cell_type": "code",
      "execution_count": null,
      "metadata": {
        "colab": {
          "base_uri": "https://localhost:8080/"
        },
        "id": "MA5wfaV2py8F",
        "outputId": "3a091edf-66bb-4626-b309-050568fce37a"
      },
      "outputs": [
        {
          "data": {
            "text/plain": [
              "(252000, 11)"
            ]
          },
          "execution_count": 6,
          "metadata": {},
          "output_type": "execute_result"
        }
      ],
      "source": [
        "loan_train.shape"
      ]
    },
    {
      "attachments": {},
      "cell_type": "markdown",
      "metadata": {},
      "source": [
        "Checking Null Values"
      ]
    },
    {
      "cell_type": "code",
      "execution_count": null,
      "metadata": {
        "colab": {
          "base_uri": "https://localhost:8080/"
        },
        "id": "1QeHzfskqZuv",
        "outputId": "3aa1f51f-db49-4dd3-fd60-89dfb7d569d9"
      },
      "outputs": [
        {
          "data": {
            "text/plain": [
              "Income             0\n",
              "Age                0\n",
              "Experience         0\n",
              "Married/Single     0\n",
              "House_Ownership    0\n",
              "dtype: int64"
            ]
          },
          "execution_count": 7,
          "metadata": {},
          "output_type": "execute_result"
        }
      ],
      "source": [
        "total_null=loan_train.isnull().sum().sort_values(ascending=False)\n",
        "total_null.head()"
      ]
    },
    {
      "cell_type": "code",
      "execution_count": null,
      "metadata": {
        "colab": {
          "base_uri": "https://localhost:8080/"
        },
        "id": "icpS-j83sASo",
        "outputId": "77b471d8-bc73-44c9-8ccd-2e1b832290f5"
      },
      "outputs": [
        {
          "name": "stdout",
          "output_type": "stream",
          "text": [
            "<class 'pandas.core.frame.DataFrame'>\n",
            "RangeIndex: 252000 entries, 0 to 251999\n",
            "Data columns (total 11 columns):\n",
            " #   Column             Non-Null Count   Dtype \n",
            "---  ------             --------------   ----- \n",
            " 0   Income             252000 non-null  int64 \n",
            " 1   Age                252000 non-null  int64 \n",
            " 2   Experience         252000 non-null  int64 \n",
            " 3   Married/Single     252000 non-null  object\n",
            " 4   House_Ownership    252000 non-null  object\n",
            " 5   Car_Ownership      252000 non-null  object\n",
            " 6   Profession         252000 non-null  object\n",
            " 7   STATE              252000 non-null  object\n",
            " 8   CURRENT_JOB_YRS    252000 non-null  int64 \n",
            " 9   CURRENT_HOUSE_YRS  252000 non-null  int64 \n",
            " 10  Risk_Flag          252000 non-null  int64 \n",
            "dtypes: int64(6), object(5)\n",
            "memory usage: 21.1+ MB\n"
          ]
        }
      ],
      "source": [
        "loan_train.info()"
      ]
    },
    {
      "attachments": {},
      "cell_type": "markdown",
      "metadata": {
        "id": "GXk8WdqmC9cL"
      },
      "source": [
        "Seeing distribution of continuous data to determine which scaling to use.<br/>\n",
        "Robust Scaling - for skewed distribution\n",
        "Standard Scaling - for normal distribution\n",
        "Min Max Scaling - for uniform distribution"
      ]
    },
    {
      "cell_type": "code",
      "execution_count": null,
      "metadata": {
        "colab": {
          "base_uri": "https://localhost:8080/",
          "height": 295
        },
        "id": "lsEOtQT37N0l",
        "outputId": "6b4ebb33-b3e2-4c6c-bf11-4d8148fddab6"
      },
      "outputs": [
        {
          "data": {
            "image/png": "[encoded data removed]",
            "text/plain": [
              "<Figure size 432x288 with 1 Axes>"
            ]
          },
          "metadata": {
            "needs_background": "light"
          },
          "output_type": "display_data"
        }
      ],
      "source": [
        "plt.hist(loan_train['Income'], bins=20, color='blue', edgecolor='black')\n",
        "plt.xlabel('Income')\n",
        "plt.ylabel('Frequency')\n",
        "plt.title('Distribution of Income')\n",
        "plt.show()"
      ]
    },
    {
      "cell_type": "code",
      "execution_count": null,
      "metadata": {
        "colab": {
          "base_uri": "https://localhost:8080/",
          "height": 295
        },
        "id": "FLxU5hVB8Mx8",
        "outputId": "40e7ff59-ebaf-4849-a9f1-bdaf4158ceaa"
      },
      "outputs": [
        {
          "data": {
            "image/png": "[encoded data removed]",
            "text/plain": [
              "<Figure size 432x288 with 1 Axes>"
            ]
          },
          "metadata": {
            "needs_background": "light"
          },
          "output_type": "display_data"
        }
      ],
      "source": [
        "plt.hist(loan_train['Age'], bins=20, color='blue', edgecolor='black')\n",
        "plt.xlabel('Age')\n",
        "plt.ylabel('Frequency')\n",
        "plt.title('Distribution of Income')\n",
        "plt.show()"
      ]
    },
    {
      "cell_type": "code",
      "execution_count": null,
      "metadata": {
        "colab": {
          "base_uri": "https://localhost:8080/",
          "height": 295
        },
        "id": "XVqHplzQ825t",
        "outputId": "456895f5-1537-469a-909c-f9ef23616168"
      },
      "outputs": [
        {
          "data": {
            "image/png": "[encoded data removed]",
            "text/plain": [
              "<Figure size 432x288 with 1 Axes>"
            ]
          },
          "metadata": {
            "needs_background": "light"
          },
          "output_type": "display_data"
        }
      ],
      "source": [
        "plt.hist(loan_train['Experience'], bins=20, color='blue', edgecolor='black')\n",
        "plt.xlabel('Experience')\n",
        "plt.ylabel('Frequency')\n",
        "plt.title('Distribution of Income')\n",
        "plt.show()"
      ]
    },
    {
      "cell_type": "code",
      "execution_count": null,
      "metadata": {
        "colab": {
          "base_uri": "https://localhost:8080/",
          "height": 296
        },
        "id": "i_pBQycE847m",
        "outputId": "b221313e-3a22-46b9-d713-6b2d5f1236b2"
      },
      "outputs": [
        {
          "data": {
            "image/png": "[encoded data removed]",
            "text/plain": [
              "<Figure size 432x288 with 1 Axes>"
            ]
          },
          "metadata": {
            "needs_background": "light"
          },
          "output_type": "display_data"
        }
      ],
      "source": [
        "plt.hist(loan_train['CURRENT_JOB_YRS'], bins=5, color='blue', edgecolor='black')\n",
        "plt.xlabel('CURRENT_JOB_YRS')\n",
        "plt.ylabel('Frequency')\n",
        "plt.title('Distribution of Income')\n",
        "plt.show()"
      ]
    },
    {
      "cell_type": "code",
      "execution_count": null,
      "metadata": {
        "colab": {
          "base_uri": "https://localhost:8080/",
          "height": 296
        },
        "id": "_-DCoyTY9RUq",
        "outputId": "ce5ca9e0-c3cc-4881-9fde-7b711be26385"
      },
      "outputs": [
        {
          "data": {
            "image/png": "[encoded data removed]",
            "text/plain": [
              "<Figure size 432x288 with 1 Axes>"
            ]
          },
          "metadata": {
            "needs_background": "light"
          },
          "output_type": "display_data"
        }
      ],
      "source": [
        "plt.hist(loan_train['CURRENT_HOUSE_YRS'], bins=5, color='blue', edgecolor='black')\n",
        "plt.xlabel('CURRENT_HOUSE_YRS')\n",
        "plt.ylabel('Frequency')\n",
        "plt.title('Distribution of Income')\n",
        "plt.show()"
      ]
    },
    {
      "attachments": {},
      "cell_type": "markdown",
      "metadata": {
        "id": "Zfkb6hlYDC9z"
      },
      "source": [
        "Encoding of Categorical Variables"
      ]
    },
    {
      "cell_type": "code",
      "execution_count": null,
      "metadata": {
        "colab": {
          "base_uri": "https://localhost:8080/"
        },
        "id": "-qz32eposYk9",
        "outputId": "77b4748b-d6ce-4be6-9c53-1b7a309b803c"
      },
      "outputs": [
        {
          "name": "stdout",
          "output_type": "stream",
          "text": [
            "Age : 59\n",
            "{21, 22, 23, 24, 25, 26, 27, 28, 29, 30, 31, 32, 33, 34, 35, 36, 37, 38, 39, 40, 41, 42, 43, 44, 45, 46, 47, 48, 49, 50, 51, 52, 53, 54, 55, 56, 57, 58, 59, 60, 61, 62, 63, 64, 65, 66, 67, 68, 69, 70, 71, 72, 73, 74, 75, 76, 77, 78, 79}\n",
            "Experience : 21\n",
            "{0, 1, 2, 3, 4, 5, 6, 7, 8, 9, 10, 11, 12, 13, 14, 15, 16, 17, 18, 19, 20}\n",
            "Married/Single : 2\n",
            "{'married', 'single'}\n",
            "House_Ownership : 3\n",
            "{'norent_noown', 'owned', 'rented'}\n",
            "Car_Ownership : 2\n",
            "{'yes', 'no'}\n",
            "Profession : 51\n",
            "{'Psychologist', 'Architect', 'Lawyer', 'Financial_Analyst', 'Police_officer', 'Engineer', 'Design_Engineer', 'Economist', 'Surveyor', 'Magistrate', 'Civil_servant', 'Firefighter', 'Technology_specialist', 'Computer_operator', 'Drafter', 'Technician', 'Army_officer', 'Microbiologist', 'Chartered_Accountant', 'Geologist', 'Secretary', 'Official', 'Air_traffic_controller', 'Aviator', 'Web_designer', 'Chef', 'Fashion_Designer', 'Comedian', 'Flight_attendant', 'Surgeon', 'Librarian', 'Mechanical_engineer', 'Software_Developer', 'Hotel_Manager', 'Consultant', 'Civil_engineer', 'Politician', 'Artist', 'Analyst', 'Statistician', 'Computer_hardware_engineer', 'Chemical_engineer', 'Petroleum_Engineer', 'Scientist', 'Technical_writer', 'Biomedical_Engineer', 'Physician', 'Dentist', 'Designer', 'Industrial_Engineer', 'Graphic_Designer'}\n",
            "STATE : 29\n",
            "{'Punjab', 'Bihar', 'Karnataka', 'Tamil_Nadu', 'Jharkhand', 'Delhi', 'Assam', 'Tripura', 'Odisha', 'Uttar_Pradesh[5]', 'West_Bengal', 'Himachal_Pradesh', 'Mizoram', 'Haryana', 'Manipur', 'Jammu_and_Kashmir', 'Chhattisgarh', 'Sikkim', 'Puducherry', 'Uttarakhand', 'Madhya_Pradesh', 'Gujarat', 'Uttar_Pradesh', 'Chandigarh', 'Andhra_Pradesh', 'Rajasthan', 'Kerala', 'Telangana', 'Maharashtra'}\n",
            "CURRENT_JOB_YRS : 15\n",
            "{0, 1, 2, 3, 4, 5, 6, 7, 8, 9, 10, 11, 12, 13, 14}\n",
            "CURRENT_HOUSE_YRS : 5\n",
            "{10, 11, 12, 13, 14}\n",
            "Risk_Flag : 2\n",
            "{0, 1}\n"
          ]
        }
      ],
      "source": [
        "loan_train.columns\n",
        "for column in loan_train.columns:\n",
        "  if(len(set((loan_train[column].values.tolist())))<100):\n",
        "    print(column,\":\",len(set((loan_train[column].values.tolist()))))\n",
        "    print(set((loan_train[column].values.tolist())))"
      ]
    },
    {
      "cell_type": "code",
      "execution_count": null,
      "metadata": {
        "colab": {
          "base_uri": "https://localhost:8080/",
          "height": 210
        },
        "id": "06KA8H3y-IaW",
        "outputId": "e348186c-221b-47ad-8be8-3bae3dfc553e"
      },
      "outputs": [
        {
          "data": {
            "application/vnd.google.colaboratory.module+javascript": "\n      import \"https://ssl.gstatic.com/colaboratory/data_table/fb998edc550c7947/data_table.js\";\n\n      window.createDataTable({\n        data: [[{\n            'v': 0,\n            'f': \"0\",\n        },\n{\n            'v': 1303834,\n            'f': \"1303834\",\n        },\n{\n            'v': 23,\n            'f': \"23\",\n        },\n{\n            'v': 3,\n            'f': \"3\",\n        },\n\"single\",\n\"rented\",\n\"no\",\n\"Mechanical_engineer\",\n\"Madhya_Pradesh\",\n{\n            'v': 3,\n            'f': \"3\",\n        },\n{\n            'v': 13,\n            'f': \"13\",\n        },\n{\n            'v': 0,\n            'f': \"0\",\n        }],\n [{\n            'v': 1,\n            'f': \"1\",\n        },\n{\n            'v': 7574516,\n            'f': \"7574516\",\n        },\n{\n            'v': 40,\n            'f': \"40\",\n        },\n{\n            'v': 10,\n            'f': \"10\",\n        },\n\"single\",\n\"rented\",\n\"no\",\n\"Software_Developer\",\n\"Maharashtra\",\n{\n            'v': 9,\n            'f': \"9\",\n        },\n{\n            'v': 13,\n            'f': \"13\",\n        },\n{\n            'v': 0,\n            'f': \"0\",\n        }],\n [{\n            'v': 2,\n            'f': \"2\",\n        },\n{\n            'v': 3991815,\n            'f': \"3991815\",\n        },\n{\n            'v': 66,\n            'f': \"66\",\n        },\n{\n            'v': 4,\n            'f': \"4\",\n        },\n\"married\",\n\"rented\",\n\"no\",\n\"Technical_writer\",\n\"Kerala\",\n{\n            'v': 4,\n            'f': \"4\",\n        },\n{\n            'v': 10,\n            'f': \"10\",\n        },\n{\n            'v': 0,\n            'f': \"0\",\n        }],\n [{\n            'v': 3,\n            'f': \"3\",\n        },\n{\n            'v': 6256451,\n            'f': \"6256451\",\n        },\n{\n            'v': 41,\n            'f': \"41\",\n        },\n{\n            'v': 2,\n            'f': \"2\",\n        },\n\"single\",\n\"rented\",\n\"yes\",\n\"Software_Developer\",\n\"Odisha\",\n{\n            'v': 2,\n            'f': \"2\",\n        },\n{\n            'v': 12,\n            'f': \"12\",\n        },\n{\n            'v': 1,\n            'f': \"1\",\n        }],\n [{\n            'v': 4,\n            'f': \"4\",\n        },\n{\n            'v': 5768871,\n            'f': \"5768871\",\n        },\n{\n            'v': 47,\n            'f': \"47\",\n        },\n{\n            'v': 11,\n            'f': \"11\",\n        },\n\"single\",\n\"rented\",\n\"no\",\n\"Civil_servant\",\n\"Tamil_Nadu\",\n{\n            'v': 3,\n            'f': \"3\",\n        },\n{\n            'v': 14,\n            'f': \"14\",\n        },\n{\n            'v': 1,\n            'f': \"1\",\n        }]],\n        columns: [[\"number\", \"index\"], [\"number\", \"Income\"], [\"number\", \"Age\"], [\"number\", \"Experience\"], [\"string\", \"Married/Single\"], [\"string\", \"House_Ownership\"], [\"string\", \"Car_Ownership\"], [\"string\", \"Profession\"], [\"string\", \"STATE\"], [\"number\", \"CURRENT_JOB_YRS\"], [\"number\", \"CURRENT_HOUSE_YRS\"], [\"number\", \"Risk_Flag\"]],\n        columnOptions: [{\"width\": \"1px\", \"className\": \"index_column\"}],\n        rowsPerPage: 25,\n        helpUrl: \"https://colab.research.google.com/notebooks/data_table.ipynb\",\n        suppressOutputScrolling: true,\n        minimumWidth: undefined,\n      });\n    ",
            "text/html": [
              "\n",
              "  <div id=\"df-11e1a5b6-b395-40d1-9e8d-c7c6652b88ba\">\n",
              "    <div class=\"colab-df-container\">\n",
              "      <div>\n",
              "<style scoped>\n",
              "    .dataframe tbody tr th:only-of-type {\n",
              "        vertical-align: middle;\n",
              "    }\n",
              "\n",
              "    .dataframe tbody tr th {\n",
              "        vertical-align: top;\n",
              "    }\n",
              "\n",
              "    .dataframe thead th {\n",
              "        text-align: right;\n",
              "    }\n",
              "</style>\n",
              "<table border=\"1\" class=\"dataframe\">\n",
              "  <thead>\n",
              "    <tr style=\"text-align: right;\">\n",
              "      <th></th>\n",
              "      <th>Income</th>\n",
              "      <th>Age</th>\n",
              "      <th>Experience</th>\n",
              "      <th>Married/Single</th>\n",
              "      <th>House_Ownership</th>\n",
              "      <th>Car_Ownership</th>\n",
              "      <th>Profession</th>\n",
              "      <th>STATE</th>\n",
              "      <th>CURRENT_JOB_YRS</th>\n",
              "      <th>CURRENT_HOUSE_YRS</th>\n",
              "      <th>Risk_Flag</th>\n",
              "    </tr>\n",
              "  </thead>\n",
              "  <tbody>\n",
              "    <tr>\n",
              "      <th>0</th>\n",
              "      <td>1303834</td>\n",
              "      <td>23</td>\n",
              "      <td>3</td>\n",
              "      <td>single</td>\n",
              "      <td>rented</td>\n",
              "      <td>no</td>\n",
              "      <td>Mechanical_engineer</td>\n",
              "      <td>Madhya_Pradesh</td>\n",
              "      <td>3</td>\n",
              "      <td>13</td>\n",
              "      <td>0</td>\n",
              "    </tr>\n",
              "    <tr>\n",
              "      <th>1</th>\n",
              "      <td>7574516</td>\n",
              "      <td>40</td>\n",
              "      <td>10</td>\n",
              "      <td>single</td>\n",
              "      <td>rented</td>\n",
              "      <td>no</td>\n",
              "      <td>Software_Developer</td>\n",
              "      <td>Maharashtra</td>\n",
              "      <td>9</td>\n",
              "      <td>13</td>\n",
              "      <td>0</td>\n",
              "    </tr>\n",
              "    <tr>\n",
              "      <th>2</th>\n",
              "      <td>3991815</td>\n",
              "      <td>66</td>\n",
              "      <td>4</td>\n",
              "      <td>married</td>\n",
              "      <td>rented</td>\n",
              "      <td>no</td>\n",
              "      <td>Technical_writer</td>\n",
              "      <td>Kerala</td>\n",
              "      <td>4</td>\n",
              "      <td>10</td>\n",
              "      <td>0</td>\n",
              "    </tr>\n",
              "    <tr>\n",
              "      <th>3</th>\n",
              "      <td>6256451</td>\n",
              "      <td>41</td>\n",
              "      <td>2</td>\n",
              "      <td>single</td>\n",
              "      <td>rented</td>\n",
              "      <td>yes</td>\n",
              "      <td>Software_Developer</td>\n",
              "      <td>Odisha</td>\n",
              "      <td>2</td>\n",
              "      <td>12</td>\n",
              "      <td>1</td>\n",
              "    </tr>\n",
              "    <tr>\n",
              "      <th>4</th>\n",
              "      <td>5768871</td>\n",
              "      <td>47</td>\n",
              "      <td>11</td>\n",
              "      <td>single</td>\n",
              "      <td>rented</td>\n",
              "      <td>no</td>\n",
              "      <td>Civil_servant</td>\n",
              "      <td>Tamil_Nadu</td>\n",
              "      <td>3</td>\n",
              "      <td>14</td>\n",
              "      <td>1</td>\n",
              "    </tr>\n",
              "  </tbody>\n",
              "</table>\n",
              "</div>\n",
              "      <button class=\"colab-df-convert\" onclick=\"convertToInteractive('df-11e1a5b6-b395-40d1-9e8d-c7c6652b88ba')\"\n",
              "              title=\"Convert this dataframe to an interactive table.\"\n",
              "              style=\"display:none;\">\n",
              "        \n",
              "  <svg xmlns=\"http://www.w3.org/2000/svg\" height=\"24px\"viewBox=\"0 0 24 24\"\n",
              "       width=\"24px\">\n",
              "    <path d=\"M0 0h24v24H0V0z\" fill=\"none\"/>\n",
              "    <path d=\"M18.56 5.44l.94 2.06.94-2.06 2.06-.94-2.06-.94-.94-2.06-.94 2.06-2.06.94zm-11 1L8.5 8.5l.94-2.06 2.06-.94-2.06-.94L8.5 2.5l-.94 2.06-2.06.94zm10 10l.94 2.06.94-2.06 2.06-.94-2.06-.94-.94-2.06-.94 2.06-2.06.94z\"/><path d=\"M17.41 7.96l-1.37-1.37c-.4-.4-.92-.59-1.43-.59-.52 0-1.04.2-1.43.59L10.3 9.45l-7.72 7.72c-.78.78-.78 2.05 0 2.83L4 21.41c.39.39.9.59 1.41.59.51 0 1.02-.2 1.41-.59l7.78-7.78 2.81-2.81c.8-.78.8-2.07 0-2.86zM5.41 20L4 18.59l7.72-7.72 1.47 1.35L5.41 20z\"/>\n",
              "  </svg>\n",
              "      </button>\n",
              "      \n",
              "  <style>\n",
              "    .colab-df-container {\n",
              "      display:flex;\n",
              "      flex-wrap:wrap;\n",
              "      gap: 12px;\n",
              "    }\n",
              "\n",
              "    .colab-df-convert {\n",
              "      background-color: #E8F0FE;\n",
              "      border: none;\n",
              "      border-radius: 50%;\n",
              "      cursor: pointer;\n",
              "      display: none;\n",
              "      fill: #1967D2;\n",
              "      height: 32px;\n",
              "      padding: 0 0 0 0;\n",
              "      width: 32px;\n",
              "    }\n",
              "\n",
              "    .colab-df-convert:hover {\n",
              "      background-color: #E2EBFA;\n",
              "      box-shadow: 0px 1px 2px rgba(60, 64, 67, 0.3), 0px 1px 3px 1px rgba(60, 64, 67, 0.15);\n",
              "      fill: #174EA6;\n",
              "    }\n",
              "\n",
              "    [theme=dark] .colab-df-convert {\n",
              "      background-color: #3B4455;\n",
              "      fill: #D2E3FC;\n",
              "    }\n",
              "\n",
              "    [theme=dark] .colab-df-convert:hover {\n",
              "      background-color: #434B5C;\n",
              "      box-shadow: 0px 1px 3px 1px rgba(0, 0, 0, 0.15);\n",
              "      filter: drop-shadow(0px 1px 2px rgba(0, 0, 0, 0.3));\n",
              "      fill: #FFFFFF;\n",
              "    }\n",
              "  </style>\n",
              "\n",
              "      <script>\n",
              "        const buttonEl =\n",
              "          document.querySelector('#df-11e1a5b6-b395-40d1-9e8d-c7c6652b88ba button.colab-df-convert');\n",
              "        buttonEl.style.display =\n",
              "          google.colab.kernel.accessAllowed ? 'block' : 'none';\n",
              "\n",
              "        async function convertToInteractive(key) {\n",
              "          const element = document.querySelector('#df-11e1a5b6-b395-40d1-9e8d-c7c6652b88ba');\n",
              "          const dataTable =\n",
              "            await google.colab.kernel.invokeFunction('convertToInteractive',\n",
              "                                                     [key], {});\n",
              "          if (!dataTable) return;\n",
              "\n",
              "          const docLinkHtml = 'Like what you see? Visit the ' +\n",
              "            '<a target=\"_blank\" href=https://colab.research.google.com/notebooks/data_table.ipynb>data table notebook</a>'\n",
              "            + ' to learn more about interactive tables.';\n",
              "          element.innerHTML = '';\n",
              "          dataTable['output_type'] = 'display_data';\n",
              "          await google.colab.output.renderOutput(dataTable, element);\n",
              "          const docLink = document.createElement('div');\n",
              "          docLink.innerHTML = docLinkHtml;\n",
              "          element.appendChild(docLink);\n",
              "        }\n",
              "      </script>\n",
              "    </div>\n",
              "  </div>\n",
              "  "
            ],
            "text/plain": [
              "    Income  Age  Experience Married/Single House_Ownership Car_Ownership  \\\n",
              "0  1303834   23           3         single          rented            no   \n",
              "1  7574516   40          10         single          rented            no   \n",
              "2  3991815   66           4        married          rented            no   \n",
              "3  6256451   41           2         single          rented           yes   \n",
              "4  5768871   47          11         single          rented            no   \n",
              "\n",
              "            Profession           STATE  CURRENT_JOB_YRS  CURRENT_HOUSE_YRS  \\\n",
              "0  Mechanical_engineer  Madhya_Pradesh                3                 13   \n",
              "1   Software_Developer     Maharashtra                9                 13   \n",
              "2     Technical_writer          Kerala                4                 10   \n",
              "3   Software_Developer          Odisha                2                 12   \n",
              "4        Civil_servant      Tamil_Nadu                3                 14   \n",
              "\n",
              "   Risk_Flag  \n",
              "0          0  \n",
              "1          0  \n",
              "2          0  \n",
              "3          1  \n",
              "4          1  "
            ]
          },
          "execution_count": 15,
          "metadata": {},
          "output_type": "execute_result"
        }
      ],
      "source": [
        "loan_train.head()"
      ]
    },
    {
      "attachments": {},
      "cell_type": "markdown",
      "metadata": {},
      "source": [
        "Scaling of the continuous variables and Encoding of the categorical variables"
      ]
    },
    {
      "cell_type": "code",
      "execution_count": null,
      "metadata": {
        "id": "MovdFH2Bw3id"
      },
      "outputs": [],
      "source": [
        "loan_train=pd.get_dummies(loan_train,columns=['Married/Single','House_Ownership','Car_Ownership'])\n",
        "mmscaler=MinMaxScaler()\n",
        "rscaler=RobustScaler()\n",
        "cols_to_scale_minmax=['Income','Age','CURRENT_HOUSE_YRS']\n",
        "loan_train[cols_to_scale_minmax]=mmscaler.fit_transform(loan_train[cols_to_scale_minmax])\n",
        "cols_to_scale_robust=['Experience','CURRENT_JOB_YRS']\n",
        "loan_train[cols_to_scale_robust]=rscaler.fit_transform(loan_train[cols_to_scale_robust])"
      ]
    },
    {
      "cell_type": "code",
      "execution_count": null,
      "metadata": {
        "colab": {
          "base_uri": "https://localhost:8080/",
          "height": 210
        },
        "id": "pUO71iI56ELM",
        "outputId": "b6367e1e-49bc-4384-c0cb-fd24f6fd9297"
      },
      "outputs": [
        {
          "data": {
            "application/vnd.google.colaboratory.module+javascript": "\n      import \"https://ssl.gstatic.com/colaboratory/data_table/fb998edc550c7947/data_table.js\";\n\n      window.createDataTable({\n        data: [[{\n            'v': 0,\n            'f': \"0\",\n        },\n{\n            'v': 0.12948670360898323,\n            'f': \"0.12948670360898323\",\n        },\n{\n            'v': 0.03448275862068967,\n            'f': \"0.03448275862068967\",\n        },\n{\n            'v': -0.7,\n            'f': \"-0.7\",\n        },\n\"Mechanical_engineer\",\n\"Madhya_Pradesh\",\n{\n            'v': -0.5,\n            'f': \"-0.5\",\n        },\n{\n            'v': 0.75,\n            'f': \"0.75\",\n        },\n{\n            'v': 0,\n            'f': \"0\",\n        },\n{\n            'v': 0,\n            'f': \"0\",\n        },\n{\n            'v': 1,\n            'f': \"1\",\n        },\n{\n            'v': 0,\n            'f': \"0\",\n        },\n{\n            'v': 0,\n            'f': \"0\",\n        },\n{\n            'v': 1,\n            'f': \"1\",\n        },\n{\n            'v': 1,\n            'f': \"1\",\n        },\n{\n            'v': 0,\n            'f': \"0\",\n        }],\n [{\n            'v': 1,\n            'f': \"1\",\n        },\n{\n            'v': 0.7572059740362704,\n            'f': \"0.7572059740362704\",\n        },\n{\n            'v': 0.32758620689655177,\n            'f': \"0.32758620689655177\",\n        },\n{\n            'v': 0.0,\n            'f': \"0.0\",\n        },\n\"Software_Developer\",\n\"Maharashtra\",\n{\n            'v': 0.5,\n            'f': \"0.5\",\n        },\n{\n            'v': 0.75,\n            'f': \"0.75\",\n        },\n{\n            'v': 0,\n            'f': \"0\",\n        },\n{\n            'v': 0,\n            'f': \"0\",\n        },\n{\n            'v': 1,\n            'f': \"1\",\n        },\n{\n            'v': 0,\n            'f': \"0\",\n        },\n{\n            'v': 0,\n            'f': \"0\",\n        },\n{\n            'v': 1,\n            'f': \"1\",\n        },\n{\n            'v': 1,\n            'f': \"1\",\n        },\n{\n            'v': 0,\n            'f': \"0\",\n        }],\n [{\n            'v': 2,\n            'f': \"2\",\n        },\n{\n            'v': 0.39856389046719254,\n            'f': \"0.39856389046719254\",\n        },\n{\n            'v': 0.7758620689655173,\n            'f': \"0.7758620689655173\",\n        },\n{\n            'v': -0.6,\n            'f': \"-0.6\",\n        },\n\"Technical_writer\",\n\"Kerala\",\n{\n            'v': -0.3333333333333333,\n            'f': \"-0.3333333333333333\",\n        },\n{\n            'v': 0.0,\n            'f': \"0.0\",\n        },\n{\n            'v': 0,\n            'f': \"0\",\n        },\n{\n            'v': 1,\n            'f': \"1\",\n        },\n{\n            'v': 0,\n            'f': \"0\",\n        },\n{\n            'v': 0,\n            'f': \"0\",\n        },\n{\n            'v': 0,\n            'f': \"0\",\n        },\n{\n            'v': 1,\n            'f': \"1\",\n        },\n{\n            'v': 1,\n            'f': \"1\",\n        },\n{\n            'v': 0,\n            'f': \"0\",\n        }],\n [{\n            'v': 3,\n            'f': \"3\",\n        },\n{\n            'v': 0.625262622391945,\n            'f': \"0.625262622391945\",\n        },\n{\n            'v': 0.3448275862068965,\n            'f': \"0.3448275862068965\",\n        },\n{\n            'v': -0.8,\n            'f': \"-0.8\",\n        },\n\"Software_Developer\",\n\"Odisha\",\n{\n            'v': -0.6666666666666666,\n            'f': \"-0.6666666666666666\",\n        },\n{\n            'v': 0.5,\n            'f': \"0.5\",\n        },\n{\n            'v': 1,\n            'f': \"1\",\n        },\n{\n            'v': 0,\n            'f': \"0\",\n        },\n{\n            'v': 1,\n            'f': \"1\",\n        },\n{\n            'v': 0,\n            'f': \"0\",\n        },\n{\n            'v': 0,\n            'f': \"0\",\n        },\n{\n            'v': 1,\n            'f': \"1\",\n        },\n{\n            'v': 0,\n            'f': \"0\",\n        },\n{\n            'v': 1,\n            'f': \"1\",\n        }],\n [{\n            'v': 4,\n            'f': \"4\",\n        },\n{\n            'v': 0.5764539980868156,\n            'f': \"0.5764539980868156\",\n        },\n{\n            'v': 0.44827586206896547,\n            'f': \"0.44827586206896547\",\n        },\n{\n            'v': 0.1,\n            'f': \"0.1\",\n        },\n\"Civil_servant\",\n\"Tamil_Nadu\",\n{\n            'v': -0.5,\n            'f': \"-0.5\",\n        },\n{\n            'v': 1.0,\n            'f': \"1.0\",\n        },\n{\n            'v': 1,\n            'f': \"1\",\n        },\n{\n            'v': 0,\n            'f': \"0\",\n        },\n{\n            'v': 1,\n            'f': \"1\",\n        },\n{\n            'v': 0,\n            'f': \"0\",\n        },\n{\n            'v': 0,\n            'f': \"0\",\n        },\n{\n            'v': 1,\n            'f': \"1\",\n        },\n{\n            'v': 1,\n            'f': \"1\",\n        },\n{\n            'v': 0,\n            'f': \"0\",\n        }]],\n        columns: [[\"number\", \"index\"], [\"number\", \"Income\"], [\"number\", \"Age\"], [\"number\", \"Experience\"], [\"string\", \"Profession\"], [\"string\", \"STATE\"], [\"number\", \"CURRENT_JOB_YRS\"], [\"number\", \"CURRENT_HOUSE_YRS\"], [\"number\", \"Risk_Flag\"], [\"number\", \"Married/Single_married\"], [\"number\", \"Married/Single_single\"], [\"number\", \"House_Ownership_norent_noown\"], [\"number\", \"House_Ownership_owned\"], [\"number\", \"House_Ownership_rented\"], [\"number\", \"Car_Ownership_no\"], [\"number\", \"Car_Ownership_yes\"]],\n        columnOptions: [{\"width\": \"1px\", \"className\": \"index_column\"}],\n        rowsPerPage: 25,\n        helpUrl: \"https://colab.research.google.com/notebooks/data_table.ipynb\",\n        suppressOutputScrolling: true,\n        minimumWidth: undefined,\n      });\n    ",
            "text/html": [
              "\n",
              "  <div id=\"df-8f3a4058-9b99-4808-9b2c-0a06d84d49f3\">\n",
              "    <div class=\"colab-df-container\">\n",
              "      <div>\n",
              "<style scoped>\n",
              "    .dataframe tbody tr th:only-of-type {\n",
              "        vertical-align: middle;\n",
              "    }\n",
              "\n",
              "    .dataframe tbody tr th {\n",
              "        vertical-align: top;\n",
              "    }\n",
              "\n",
              "    .dataframe thead th {\n",
              "        text-align: right;\n",
              "    }\n",
              "</style>\n",
              "<table border=\"1\" class=\"dataframe\">\n",
              "  <thead>\n",
              "    <tr style=\"text-align: right;\">\n",
              "      <th></th>\n",
              "      <th>Income</th>\n",
              "      <th>Age</th>\n",
              "      <th>Experience</th>\n",
              "      <th>Profession</th>\n",
              "      <th>STATE</th>\n",
              "      <th>CURRENT_JOB_YRS</th>\n",
              "      <th>CURRENT_HOUSE_YRS</th>\n",
              "      <th>Risk_Flag</th>\n",
              "      <th>Married/Single_married</th>\n",
              "      <th>Married/Single_single</th>\n",
              "      <th>House_Ownership_norent_noown</th>\n",
              "      <th>House_Ownership_owned</th>\n",
              "      <th>House_Ownership_rented</th>\n",
              "      <th>Car_Ownership_no</th>\n",
              "      <th>Car_Ownership_yes</th>\n",
              "    </tr>\n",
              "  </thead>\n",
              "  <tbody>\n",
              "    <tr>\n",
              "      <th>0</th>\n",
              "      <td>0.129487</td>\n",
              "      <td>0.034483</td>\n",
              "      <td>-0.7</td>\n",
              "      <td>Mechanical_engineer</td>\n",
              "      <td>Madhya_Pradesh</td>\n",
              "      <td>-0.500000</td>\n",
              "      <td>0.75</td>\n",
              "      <td>0</td>\n",
              "      <td>0</td>\n",
              "      <td>1</td>\n",
              "      <td>0</td>\n",
              "      <td>0</td>\n",
              "      <td>1</td>\n",
              "      <td>1</td>\n",
              "      <td>0</td>\n",
              "    </tr>\n",
              "    <tr>\n",
              "      <th>1</th>\n",
              "      <td>0.757206</td>\n",
              "      <td>0.327586</td>\n",
              "      <td>0.0</td>\n",
              "      <td>Software_Developer</td>\n",
              "      <td>Maharashtra</td>\n",
              "      <td>0.500000</td>\n",
              "      <td>0.75</td>\n",
              "      <td>0</td>\n",
              "      <td>0</td>\n",
              "      <td>1</td>\n",
              "      <td>0</td>\n",
              "      <td>0</td>\n",
              "      <td>1</td>\n",
              "      <td>1</td>\n",
              "      <td>0</td>\n",
              "    </tr>\n",
              "    <tr>\n",
              "      <th>2</th>\n",
              "      <td>0.398564</td>\n",
              "      <td>0.775862</td>\n",
              "      <td>-0.6</td>\n",
              "      <td>Technical_writer</td>\n",
              "      <td>Kerala</td>\n",
              "      <td>-0.333333</td>\n",
              "      <td>0.00</td>\n",
              "      <td>0</td>\n",
              "      <td>1</td>\n",
              "      <td>0</td>\n",
              "      <td>0</td>\n",
              "      <td>0</td>\n",
              "      <td>1</td>\n",
              "      <td>1</td>\n",
              "      <td>0</td>\n",
              "    </tr>\n",
              "    <tr>\n",
              "      <th>3</th>\n",
              "      <td>0.625263</td>\n",
              "      <td>0.344828</td>\n",
              "      <td>-0.8</td>\n",
              "      <td>Software_Developer</td>\n",
              "      <td>Odisha</td>\n",
              "      <td>-0.666667</td>\n",
              "      <td>0.50</td>\n",
              "      <td>1</td>\n",
              "      <td>0</td>\n",
              "      <td>1</td>\n",
              "      <td>0</td>\n",
              "      <td>0</td>\n",
              "      <td>1</td>\n",
              "      <td>0</td>\n",
              "      <td>1</td>\n",
              "    </tr>\n",
              "    <tr>\n",
              "      <th>4</th>\n",
              "      <td>0.576454</td>\n",
              "      <td>0.448276</td>\n",
              "      <td>0.1</td>\n",
              "      <td>Civil_servant</td>\n",
              "      <td>Tamil_Nadu</td>\n",
              "      <td>-0.500000</td>\n",
              "      <td>1.00</td>\n",
              "      <td>1</td>\n",
              "      <td>0</td>\n",
              "      <td>1</td>\n",
              "      <td>0</td>\n",
              "      <td>0</td>\n",
              "      <td>1</td>\n",
              "      <td>1</td>\n",
              "      <td>0</td>\n",
              "    </tr>\n",
              "  </tbody>\n",
              "</table>\n",
              "</div>\n",
              "      <button class=\"colab-df-convert\" onclick=\"convertToInteractive('df-8f3a4058-9b99-4808-9b2c-0a06d84d49f3')\"\n",
              "              title=\"Convert this dataframe to an interactive table.\"\n",
              "              style=\"display:none;\">\n",
              "        \n",
              "  <svg xmlns=\"http://www.w3.org/2000/svg\" height=\"24px\"viewBox=\"0 0 24 24\"\n",
              "       width=\"24px\">\n",
              "    <path d=\"M0 0h24v24H0V0z\" fill=\"none\"/>\n",
              "    <path d=\"M18.56 5.44l.94 2.06.94-2.06 2.06-.94-2.06-.94-.94-2.06-.94 2.06-2.06.94zm-11 1L8.5 8.5l.94-2.06 2.06-.94-2.06-.94L8.5 2.5l-.94 2.06-2.06.94zm10 10l.94 2.06.94-2.06 2.06-.94-2.06-.94-.94-2.06-.94 2.06-2.06.94z\"/><path d=\"M17.41 7.96l-1.37-1.37c-.4-.4-.92-.59-1.43-.59-.52 0-1.04.2-1.43.59L10.3 9.45l-7.72 7.72c-.78.78-.78 2.05 0 2.83L4 21.41c.39.39.9.59 1.41.59.51 0 1.02-.2 1.41-.59l7.78-7.78 2.81-2.81c.8-.78.8-2.07 0-2.86zM5.41 20L4 18.59l7.72-7.72 1.47 1.35L5.41 20z\"/>\n",
              "  </svg>\n",
              "      </button>\n",
              "      \n",
              "  <style>\n",
              "    .colab-df-container {\n",
              "      display:flex;\n",
              "      flex-wrap:wrap;\n",
              "      gap: 12px;\n",
              "    }\n",
              "\n",
              "    .colab-df-convert {\n",
              "      background-color: #E8F0FE;\n",
              "      border: none;\n",
              "      border-radius: 50%;\n",
              "      cursor: pointer;\n",
              "      display: none;\n",
              "      fill: #1967D2;\n",
              "      height: 32px;\n",
              "      padding: 0 0 0 0;\n",
              "      width: 32px;\n",
              "    }\n",
              "\n",
              "    .colab-df-convert:hover {\n",
              "      background-color: #E2EBFA;\n",
              "      box-shadow: 0px 1px 2px rgba(60, 64, 67, 0.3), 0px 1px 3px 1px rgba(60, 64, 67, 0.15);\n",
              "      fill: #174EA6;\n",
              "    }\n",
              "\n",
              "    [theme=dark] .colab-df-convert {\n",
              "      background-color: #3B4455;\n",
              "      fill: #D2E3FC;\n",
              "    }\n",
              "\n",
              "    [theme=dark] .colab-df-convert:hover {\n",
              "      background-color: #434B5C;\n",
              "      box-shadow: 0px 1px 3px 1px rgba(0, 0, 0, 0.15);\n",
              "      filter: drop-shadow(0px 1px 2px rgba(0, 0, 0, 0.3));\n",
              "      fill: #FFFFFF;\n",
              "    }\n",
              "  </style>\n",
              "\n",
              "      <script>\n",
              "        const buttonEl =\n",
              "          document.querySelector('#df-8f3a4058-9b99-4808-9b2c-0a06d84d49f3 button.colab-df-convert');\n",
              "        buttonEl.style.display =\n",
              "          google.colab.kernel.accessAllowed ? 'block' : 'none';\n",
              "\n",
              "        async function convertToInteractive(key) {\n",
              "          const element = document.querySelector('#df-8f3a4058-9b99-4808-9b2c-0a06d84d49f3');\n",
              "          const dataTable =\n",
              "            await google.colab.kernel.invokeFunction('convertToInteractive',\n",
              "                                                     [key], {});\n",
              "          if (!dataTable) return;\n",
              "\n",
              "          const docLinkHtml = 'Like what you see? Visit the ' +\n",
              "            '<a target=\"_blank\" href=https://colab.research.google.com/notebooks/data_table.ipynb>data table notebook</a>'\n",
              "            + ' to learn more about interactive tables.';\n",
              "          element.innerHTML = '';\n",
              "          dataTable['output_type'] = 'display_data';\n",
              "          await google.colab.output.renderOutput(dataTable, element);\n",
              "          const docLink = document.createElement('div');\n",
              "          docLink.innerHTML = docLinkHtml;\n",
              "          element.appendChild(docLink);\n",
              "        }\n",
              "      </script>\n",
              "    </div>\n",
              "  </div>\n",
              "  "
            ],
            "text/plain": [
              "     Income       Age  Experience           Profession           STATE  \\\n",
              "0  0.129487  0.034483        -0.7  Mechanical_engineer  Madhya_Pradesh   \n",
              "1  0.757206  0.327586         0.0   Software_Developer     Maharashtra   \n",
              "2  0.398564  0.775862        -0.6     Technical_writer          Kerala   \n",
              "3  0.625263  0.344828        -0.8   Software_Developer          Odisha   \n",
              "4  0.576454  0.448276         0.1        Civil_servant      Tamil_Nadu   \n",
              "\n",
              "   CURRENT_JOB_YRS  CURRENT_HOUSE_YRS  Risk_Flag  Married/Single_married  \\\n",
              "0        -0.500000               0.75          0                       0   \n",
              "1         0.500000               0.75          0                       0   \n",
              "2        -0.333333               0.00          0                       1   \n",
              "3        -0.666667               0.50          1                       0   \n",
              "4        -0.500000               1.00          1                       0   \n",
              "\n",
              "   Married/Single_single  House_Ownership_norent_noown  House_Ownership_owned  \\\n",
              "0                      1                             0                      0   \n",
              "1                      1                             0                      0   \n",
              "2                      0                             0                      0   \n",
              "3                      1                             0                      0   \n",
              "4                      1                             0                      0   \n",
              "\n",
              "   House_Ownership_rented  Car_Ownership_no  Car_Ownership_yes  \n",
              "0                       1                 1                  0  \n",
              "1                       1                 1                  0  \n",
              "2                       1                 1                  0  \n",
              "3                       1                 0                  1  \n",
              "4                       1                 1                  0  "
            ]
          },
          "execution_count": 17,
          "metadata": {},
          "output_type": "execute_result"
        }
      ],
      "source": [
        "loan_train.head()"
      ]
    },
    {
      "cell_type": "code",
      "execution_count": null,
      "metadata": {
        "id": "ruZf0IfR-p2P"
      },
      "outputs": [],
      "source": [
        "from sklearn.preprocessing import LabelEncoder\n",
        "le = LabelEncoder()\n",
        "for col_to_labelencode in ['Profession','STATE']:\n",
        "  loan_train[col_to_labelencode] =  le.fit_transform(loan_train[col_to_labelencode])"
      ]
    },
    {
      "cell_type": "code",
      "execution_count": null,
      "metadata": {
        "colab": {
          "base_uri": "https://localhost:8080/",
          "height": 210
        },
        "id": "nGmAoPaeCyn7",
        "outputId": "1dd85c6f-bbe0-4ee5-97c5-97e3928df119"
      },
      "outputs": [
        {
          "data": {
            "application/vnd.google.colaboratory.module+javascript": "\n      import \"https://ssl.gstatic.com/colaboratory/data_table/fb998edc550c7947/data_table.js\";\n\n      window.createDataTable({\n        data: [[{\n            'v': 0,\n            'f': \"0\",\n        },\n{\n            'v': 0.12948670360898323,\n            'f': \"0.12948670360898323\",\n        },\n{\n            'v': 0.03448275862068967,\n            'f': \"0.03448275862068967\",\n        },\n{\n            'v': -0.7,\n            'f': \"-0.7\",\n        },\n{\n            'v': 33,\n            'f': \"33\",\n        },\n{\n            'v': 13,\n            'f': \"13\",\n        },\n{\n            'v': -0.5,\n            'f': \"-0.5\",\n        },\n{\n            'v': 0.75,\n            'f': \"0.75\",\n        },\n{\n            'v': 0,\n            'f': \"0\",\n        },\n{\n            'v': 0,\n            'f': \"0\",\n        },\n{\n            'v': 1,\n            'f': \"1\",\n        },\n{\n            'v': 0,\n            'f': \"0\",\n        },\n{\n            'v': 0,\n            'f': \"0\",\n        },\n{\n            'v': 1,\n            'f': \"1\",\n        },\n{\n            'v': 1,\n            'f': \"1\",\n        },\n{\n            'v': 0,\n            'f': \"0\",\n        }],\n [{\n            'v': 1,\n            'f': \"1\",\n        },\n{\n            'v': 0.7572059740362704,\n            'f': \"0.7572059740362704\",\n        },\n{\n            'v': 0.32758620689655177,\n            'f': \"0.32758620689655177\",\n        },\n{\n            'v': 0.0,\n            'f': \"0.0\",\n        },\n{\n            'v': 43,\n            'f': \"43\",\n        },\n{\n            'v': 14,\n            'f': \"14\",\n        },\n{\n            'v': 0.5,\n            'f': \"0.5\",\n        },\n{\n            'v': 0.75,\n            'f': \"0.75\",\n        },\n{\n            'v': 0,\n            'f': \"0\",\n        },\n{\n            'v': 0,\n            'f': \"0\",\n        },\n{\n            'v': 1,\n            'f': \"1\",\n        },\n{\n            'v': 0,\n            'f': \"0\",\n        },\n{\n            'v': 0,\n            'f': \"0\",\n        },\n{\n            'v': 1,\n            'f': \"1\",\n        },\n{\n            'v': 1,\n            'f': \"1\",\n        },\n{\n            'v': 0,\n            'f': \"0\",\n        }],\n [{\n            'v': 2,\n            'f': \"2\",\n        },\n{\n            'v': 0.39856389046719254,\n            'f': \"0.39856389046719254\",\n        },\n{\n            'v': 0.7758620689655173,\n            'f': \"0.7758620689655173\",\n        },\n{\n            'v': -0.6,\n            'f': \"-0.6\",\n        },\n{\n            'v': 47,\n            'f': \"47\",\n        },\n{\n            'v': 12,\n            'f': \"12\",\n        },\n{\n            'v': -0.3333333333333333,\n            'f': \"-0.3333333333333333\",\n        },\n{\n            'v': 0.0,\n            'f': \"0.0\",\n        },\n{\n            'v': 0,\n            'f': \"0\",\n        },\n{\n            'v': 1,\n            'f': \"1\",\n        },\n{\n            'v': 0,\n            'f': \"0\",\n        },\n{\n            'v': 0,\n            'f': \"0\",\n        },\n{\n            'v': 0,\n            'f': \"0\",\n        },\n{\n            'v': 1,\n            'f': \"1\",\n        },\n{\n            'v': 1,\n            'f': \"1\",\n        },\n{\n            'v': 0,\n            'f': \"0\",\n        }],\n [{\n            'v': 3,\n            'f': \"3\",\n        },\n{\n            'v': 0.625262622391945,\n            'f': \"0.625262622391945\",\n        },\n{\n            'v': 0.3448275862068965,\n            'f': \"0.3448275862068965\",\n        },\n{\n            'v': -0.8,\n            'f': \"-0.8\",\n        },\n{\n            'v': 43,\n            'f': \"43\",\n        },\n{\n            'v': 17,\n            'f': \"17\",\n        },\n{\n            'v': -0.6666666666666666,\n            'f': \"-0.6666666666666666\",\n        },\n{\n            'v': 0.5,\n            'f': \"0.5\",\n        },\n{\n            'v': 1,\n            'f': \"1\",\n        },\n{\n            'v': 0,\n            'f': \"0\",\n        },\n{\n            'v': 1,\n            'f': \"1\",\n        },\n{\n            'v': 0,\n            'f': \"0\",\n        },\n{\n            'v': 0,\n            'f': \"0\",\n        },\n{\n            'v': 1,\n            'f': \"1\",\n        },\n{\n            'v': 0,\n            'f': \"0\",\n        },\n{\n            'v': 1,\n            'f': \"1\",\n        }],\n [{\n            'v': 4,\n            'f': \"4\",\n        },\n{\n            'v': 0.5764539980868156,\n            'f': \"0.5764539980868156\",\n        },\n{\n            'v': 0.44827586206896547,\n            'f': \"0.44827586206896547\",\n        },\n{\n            'v': 0.1,\n            'f': \"0.1\",\n        },\n{\n            'v': 11,\n            'f': \"11\",\n        },\n{\n            'v': 22,\n            'f': \"22\",\n        },\n{\n            'v': -0.5,\n            'f': \"-0.5\",\n        },\n{\n            'v': 1.0,\n            'f': \"1.0\",\n        },\n{\n            'v': 1,\n            'f': \"1\",\n        },\n{\n            'v': 0,\n            'f': \"0\",\n        },\n{\n            'v': 1,\n            'f': \"1\",\n        },\n{\n            'v': 0,\n            'f': \"0\",\n        },\n{\n            'v': 0,\n            'f': \"0\",\n        },\n{\n            'v': 1,\n            'f': \"1\",\n        },\n{\n            'v': 1,\n            'f': \"1\",\n        },\n{\n            'v': 0,\n            'f': \"0\",\n        }]],\n        columns: [[\"number\", \"index\"], [\"number\", \"Income\"], [\"number\", \"Age\"], [\"number\", \"Experience\"], [\"number\", \"Profession\"], [\"number\", \"STATE\"], [\"number\", \"CURRENT_JOB_YRS\"], [\"number\", \"CURRENT_HOUSE_YRS\"], [\"number\", \"Risk_Flag\"], [\"number\", \"Married/Single_married\"], [\"number\", \"Married/Single_single\"], [\"number\", \"House_Ownership_norent_noown\"], [\"number\", \"House_Ownership_owned\"], [\"number\", \"House_Ownership_rented\"], [\"number\", \"Car_Ownership_no\"], [\"number\", \"Car_Ownership_yes\"]],\n        columnOptions: [{\"width\": \"1px\", \"className\": \"index_column\"}],\n        rowsPerPage: 25,\n        helpUrl: \"https://colab.research.google.com/notebooks/data_table.ipynb\",\n        suppressOutputScrolling: true,\n        minimumWidth: undefined,\n      });\n    ",
            "text/html": [
              "\n",
              "  <div id=\"df-55d7efd1-2500-4c78-8a9e-9711502dd520\">\n",
              "    <div class=\"colab-df-container\">\n",
              "      <div>\n",
              "<style scoped>\n",
              "    .dataframe tbody tr th:only-of-type {\n",
              "        vertical-align: middle;\n",
              "    }\n",
              "\n",
              "    .dataframe tbody tr th {\n",
              "        vertical-align: top;\n",
              "    }\n",
              "\n",
              "    .dataframe thead th {\n",
              "        text-align: right;\n",
              "    }\n",
              "</style>\n",
              "<table border=\"1\" class=\"dataframe\">\n",
              "  <thead>\n",
              "    <tr style=\"text-align: right;\">\n",
              "      <th></th>\n",
              "      <th>Income</th>\n",
              "      <th>Age</th>\n",
              "      <th>Experience</th>\n",
              "      <th>Profession</th>\n",
              "      <th>STATE</th>\n",
              "      <th>CURRENT_JOB_YRS</th>\n",
              "      <th>CURRENT_HOUSE_YRS</th>\n",
              "      <th>Risk_Flag</th>\n",
              "      <th>Married/Single_married</th>\n",
              "      <th>Married/Single_single</th>\n",
              "      <th>House_Ownership_norent_noown</th>\n",
              "      <th>House_Ownership_owned</th>\n",
              "      <th>House_Ownership_rented</th>\n",
              "      <th>Car_Ownership_no</th>\n",
              "      <th>Car_Ownership_yes</th>\n",
              "    </tr>\n",
              "  </thead>\n",
              "  <tbody>\n",
              "    <tr>\n",
              "      <th>0</th>\n",
              "      <td>0.129487</td>\n",
              "      <td>0.034483</td>\n",
              "      <td>-0.7</td>\n",
              "      <td>33</td>\n",
              "      <td>13</td>\n",
              "      <td>-0.500000</td>\n",
              "      <td>0.75</td>\n",
              "      <td>0</td>\n",
              "      <td>0</td>\n",
              "      <td>1</td>\n",
              "      <td>0</td>\n",
              "      <td>0</td>\n",
              "      <td>1</td>\n",
              "      <td>1</td>\n",
              "      <td>0</td>\n",
              "    </tr>\n",
              "    <tr>\n",
              "      <th>1</th>\n",
              "      <td>0.757206</td>\n",
              "      <td>0.327586</td>\n",
              "      <td>0.0</td>\n",
              "      <td>43</td>\n",
              "      <td>14</td>\n",
              "      <td>0.500000</td>\n",
              "      <td>0.75</td>\n",
              "      <td>0</td>\n",
              "      <td>0</td>\n",
              "      <td>1</td>\n",
              "      <td>0</td>\n",
              "      <td>0</td>\n",
              "      <td>1</td>\n",
              "      <td>1</td>\n",
              "      <td>0</td>\n",
              "    </tr>\n",
              "    <tr>\n",
              "      <th>2</th>\n",
              "      <td>0.398564</td>\n",
              "      <td>0.775862</td>\n",
              "      <td>-0.6</td>\n",
              "      <td>47</td>\n",
              "      <td>12</td>\n",
              "      <td>-0.333333</td>\n",
              "      <td>0.00</td>\n",
              "      <td>0</td>\n",
              "      <td>1</td>\n",
              "      <td>0</td>\n",
              "      <td>0</td>\n",
              "      <td>0</td>\n",
              "      <td>1</td>\n",
              "      <td>1</td>\n",
              "      <td>0</td>\n",
              "    </tr>\n",
              "    <tr>\n",
              "      <th>3</th>\n",
              "      <td>0.625263</td>\n",
              "      <td>0.344828</td>\n",
              "      <td>-0.8</td>\n",
              "      <td>43</td>\n",
              "      <td>17</td>\n",
              "      <td>-0.666667</td>\n",
              "      <td>0.50</td>\n",
              "      <td>1</td>\n",
              "      <td>0</td>\n",
              "      <td>1</td>\n",
              "      <td>0</td>\n",
              "      <td>0</td>\n",
              "      <td>1</td>\n",
              "      <td>0</td>\n",
              "      <td>1</td>\n",
              "    </tr>\n",
              "    <tr>\n",
              "      <th>4</th>\n",
              "      <td>0.576454</td>\n",
              "      <td>0.448276</td>\n",
              "      <td>0.1</td>\n",
              "      <td>11</td>\n",
              "      <td>22</td>\n",
              "      <td>-0.500000</td>\n",
              "      <td>1.00</td>\n",
              "      <td>1</td>\n",
              "      <td>0</td>\n",
              "      <td>1</td>\n",
              "      <td>0</td>\n",
              "      <td>0</td>\n",
              "      <td>1</td>\n",
              "      <td>1</td>\n",
              "      <td>0</td>\n",
              "    </tr>\n",
              "  </tbody>\n",
              "</table>\n",
              "</div>\n",
              "      <button class=\"colab-df-convert\" onclick=\"convertToInteractive('df-55d7efd1-2500-4c78-8a9e-9711502dd520')\"\n",
              "              title=\"Convert this dataframe to an interactive table.\"\n",
              "              style=\"display:none;\">\n",
              "        \n",
              "  <svg xmlns=\"http://www.w3.org/2000/svg\" height=\"24px\"viewBox=\"0 0 24 24\"\n",
              "       width=\"24px\">\n",
              "    <path d=\"M0 0h24v24H0V0z\" fill=\"none\"/>\n",
              "    <path d=\"M18.56 5.44l.94 2.06.94-2.06 2.06-.94-2.06-.94-.94-2.06-.94 2.06-2.06.94zm-11 1L8.5 8.5l.94-2.06 2.06-.94-2.06-.94L8.5 2.5l-.94 2.06-2.06.94zm10 10l.94 2.06.94-2.06 2.06-.94-2.06-.94-.94-2.06-.94 2.06-2.06.94z\"/><path d=\"M17.41 7.96l-1.37-1.37c-.4-.4-.92-.59-1.43-.59-.52 0-1.04.2-1.43.59L10.3 9.45l-7.72 7.72c-.78.78-.78 2.05 0 2.83L4 21.41c.39.39.9.59 1.41.59.51 0 1.02-.2 1.41-.59l7.78-7.78 2.81-2.81c.8-.78.8-2.07 0-2.86zM5.41 20L4 18.59l7.72-7.72 1.47 1.35L5.41 20z\"/>\n",
              "  </svg>\n",
              "      </button>\n",
              "      \n",
              "  <style>\n",
              "    .colab-df-container {\n",
              "      display:flex;\n",
              "      flex-wrap:wrap;\n",
              "      gap: 12px;\n",
              "    }\n",
              "\n",
              "    .colab-df-convert {\n",
              "      background-color: #E8F0FE;\n",
              "      border: none;\n",
              "      border-radius: 50%;\n",
              "      cursor: pointer;\n",
              "      display: none;\n",
              "      fill: #1967D2;\n",
              "      height: 32px;\n",
              "      padding: 0 0 0 0;\n",
              "      width: 32px;\n",
              "    }\n",
              "\n",
              "    .colab-df-convert:hover {\n",
              "      background-color: #E2EBFA;\n",
              "      box-shadow: 0px 1px 2px rgba(60, 64, 67, 0.3), 0px 1px 3px 1px rgba(60, 64, 67, 0.15);\n",
              "      fill: #174EA6;\n",
              "    }\n",
              "\n",
              "    [theme=dark] .colab-df-convert {\n",
              "      background-color: #3B4455;\n",
              "      fill: #D2E3FC;\n",
              "    }\n",
              "\n",
              "    [theme=dark] .colab-df-convert:hover {\n",
              "      background-color: #434B5C;\n",
              "      box-shadow: 0px 1px 3px 1px rgba(0, 0, 0, 0.15);\n",
              "      filter: drop-shadow(0px 1px 2px rgba(0, 0, 0, 0.3));\n",
              "      fill: #FFFFFF;\n",
              "    }\n",
              "  </style>\n",
              "\n",
              "      <script>\n",
              "        const buttonEl =\n",
              "          document.querySelector('#df-55d7efd1-2500-4c78-8a9e-9711502dd520 button.colab-df-convert');\n",
              "        buttonEl.style.display =\n",
              "          google.colab.kernel.accessAllowed ? 'block' : 'none';\n",
              "\n",
              "        async function convertToInteractive(key) {\n",
              "          const element = document.querySelector('#df-55d7efd1-2500-4c78-8a9e-9711502dd520');\n",
              "          const dataTable =\n",
              "            await google.colab.kernel.invokeFunction('convertToInteractive',\n",
              "                                                     [key], {});\n",
              "          if (!dataTable) return;\n",
              "\n",
              "          const docLinkHtml = 'Like what you see? Visit the ' +\n",
              "            '<a target=\"_blank\" href=https://colab.research.google.com/notebooks/data_table.ipynb>data table notebook</a>'\n",
              "            + ' to learn more about interactive tables.';\n",
              "          element.innerHTML = '';\n",
              "          dataTable['output_type'] = 'display_data';\n",
              "          await google.colab.output.renderOutput(dataTable, element);\n",
              "          const docLink = document.createElement('div');\n",
              "          docLink.innerHTML = docLinkHtml;\n",
              "          element.appendChild(docLink);\n",
              "        }\n",
              "      </script>\n",
              "    </div>\n",
              "  </div>\n",
              "  "
            ],
            "text/plain": [
              "     Income       Age  Experience  Profession  STATE  CURRENT_JOB_YRS  \\\n",
              "0  0.129487  0.034483        -0.7          33     13        -0.500000   \n",
              "1  0.757206  0.327586         0.0          43     14         0.500000   \n",
              "2  0.398564  0.775862        -0.6          47     12        -0.333333   \n",
              "3  0.625263  0.344828        -0.8          43     17        -0.666667   \n",
              "4  0.576454  0.448276         0.1          11     22        -0.500000   \n",
              "\n",
              "   CURRENT_HOUSE_YRS  Risk_Flag  Married/Single_married  \\\n",
              "0               0.75          0                       0   \n",
              "1               0.75          0                       0   \n",
              "2               0.00          0                       1   \n",
              "3               0.50          1                       0   \n",
              "4               1.00          1                       0   \n",
              "\n",
              "   Married/Single_single  House_Ownership_norent_noown  House_Ownership_owned  \\\n",
              "0                      1                             0                      0   \n",
              "1                      1                             0                      0   \n",
              "2                      0                             0                      0   \n",
              "3                      1                             0                      0   \n",
              "4                      1                             0                      0   \n",
              "\n",
              "   House_Ownership_rented  Car_Ownership_no  Car_Ownership_yes  \n",
              "0                       1                 1                  0  \n",
              "1                       1                 1                  0  \n",
              "2                       1                 1                  0  \n",
              "3                       1                 0                  1  \n",
              "4                       1                 1                  0  "
            ]
          },
          "execution_count": 19,
          "metadata": {},
          "output_type": "execute_result"
        }
      ],
      "source": [
        "loan_train.head()"
      ]
    },
    {
      "cell_type": "code",
      "execution_count": null,
      "metadata": {
        "colab": {
          "base_uri": "https://localhost:8080/"
        },
        "id": "v-Zre6EBLo7i",
        "outputId": "c605367d-b87e-42d6-fa7b-8a2681ea8512"
      },
      "outputs": [
        {
          "data": {
            "text/plain": [
              "(252000, 15)"
            ]
          },
          "execution_count": 20,
          "metadata": {},
          "output_type": "execute_result"
        }
      ],
      "source": [
        "loan_train.shape"
      ]
    },
    {
      "cell_type": "markdown",
      "metadata": {
        "id": "8YDdPuK9DuoN"
      },
      "source": [
        "# Train-test split"
      ]
    },
    {
      "cell_type": "code",
      "execution_count": null,
      "metadata": {
        "id": "reRQNg7qDxn-"
      },
      "outputs": [],
      "source": [
        "y=loan_train['Risk_Flag']\n",
        "x=loan_train.drop(['Risk_Flag'],axis=1)"
      ]
    },
    {
      "cell_type": "code",
      "execution_count": null,
      "metadata": {
        "id": "_tfFi_jvEHxD"
      },
      "outputs": [],
      "source": [
        "X_train,X_test,y_train,y_test=train_test_split(x,y,test_size=0.2,random_state=42)"
      ]
    },
    {
      "attachments": {},
      "cell_type": "markdown",
      "metadata": {
        "id": "VCXaGdLUEiJe"
      },
      "source": [
        "# Training Models"
      ]
    },
    {
      "cell_type": "markdown",
      "metadata": {
        "id": "GTR6oTgnEm_9"
      },
      "source": [
        "XGBoost"
      ]
    },
    {
      "cell_type": "code",
      "execution_count": null,
      "metadata": {
        "colab": {
          "base_uri": "https://localhost:8080/"
        },
        "id": "BTYvihYxEk8W",
        "outputId": "2e46f1d9-64ed-4440-dbc1-6d90a826f575"
      },
      "outputs": [
        {
          "name": "stdout",
          "output_type": "stream",
          "text": [
            "Fitting 3 folds for each of 15 candidates, totalling 45 fits\n",
            "Best Parameters:{'n_estimators': 146, 'max_depth': 12, 'learning_rate': 0.1, 'colsample_bytree': 0.7}\n",
            "Accuracy=0.8975396825396825\n"
          ]
        }
      ],
      "source": [
        "parameter_grid={\n",
        "    'n_estimators':range(100,400),\n",
        "    'max_depth':range(1,15),\n",
        "    'learning_rate':[.1,0.3,0.5],\n",
        "    'colsample_bytree':[0.6,0.7,0.8]\n",
        "}\n",
        "xgb_classifer=XGBClassifier()\n",
        "xgb_random=RandomizedSearchCV(param_distributions=parameter_grid,\n",
        "                              estimator=xgb_classifer,scoring='accuracy',\n",
        "                              verbose=1,n_iter=15,cv=3)\n",
        "xgb_random.fit(X_train,y_train)\n",
        "print(f'Best Parameters:{xgb_random.best_params_}')\n",
        "\n",
        "y_pred=xgb_random.predict(X_test)\n",
        "print(f'Accuracy={np.sum(y_pred==y_test)/len(y_test)}')"
      ]
    },
    {
      "cell_type": "markdown",
      "metadata": {
        "id": "rBkWooL6hnTU"
      },
      "source": [
        "Decision Tree"
      ]
    },
    {
      "cell_type": "code",
      "execution_count": null,
      "metadata": {
        "id": "LIZR0bHbg0z-"
      },
      "outputs": [],
      "source": [
        "decisiontree_parameter_grid={\n",
        "  'max_depth':range(5,10),\n",
        "  'min_samples_leaf':range(10,40,10),\n",
        "  'min_samples_split':range(10,40,10),\n",
        "  'criterion':['gini','entropy']\n",
        "}\n",
        "n_folds=3\n",
        "dt=DecisionTreeClassifier(random_state=np.random.randint(0,100))"
      ]
    },
    {
      "cell_type": "code",
      "execution_count": null,
      "metadata": {
        "id": "HsCHJYfTho49"
      },
      "outputs": [],
      "source": [
        "dt_grid=GridSearchCV(dt,decisiontree_parameter_grid,cv=n_folds,return_train_score=True,verbose=1)\n",
        "dt_grid.fit(X_train,y_train)\n"
      ]
    },
    {
      "cell_type": "code",
      "execution_count": null,
      "metadata": {
        "colab": {
          "base_uri": "https://localhost:8080/"
        },
        "id": "Yonmo-kxiiDH",
        "outputId": "3db03855-5342-41d2-f7d5-cb9f67ac3cfe"
      },
      "outputs": [
        {
          "name": "stdout",
          "output_type": "stream",
          "text": [
            "{'criterion': 'gini', 'max_depth': 9, 'min_samples_leaf': 10, 'min_samples_split': 30}\n"
          ]
        }
      ],
      "source": [
        "print(dt_grid.best_params_)"
      ]
    },
    {
      "cell_type": "code",
      "execution_count": null,
      "metadata": {
        "colab": {
          "base_uri": "https://localhost:8080/"
        },
        "id": "BjA2EltSjWpt",
        "outputId": "490a8fc3-4109-4ed0-9d77-0928dca80351"
      },
      "outputs": [
        {
          "name": "stdout",
          "output_type": "stream",
          "text": [
            "0.8794444444444445\n"
          ]
        }
      ],
      "source": [
        "y_pred_dt=dt_grid.predict(X_test)\n",
        "acc=metrics.accuracy_score(y_test,y_pred_dt)\n",
        "print(acc)"
      ]
    },
    {
      "cell_type": "markdown",
      "metadata": {
        "id": "zM-E3Uj8j4Yp"
      },
      "source": [
        "Random Forest"
      ]
    },
    {
      "cell_type": "code",
      "execution_count": null,
      "metadata": {
        "id": "HZos6s84kD8U"
      },
      "outputs": [],
      "source": [
        "rf_param_grid={\n",
        "    'n_estimators':range(1,500,100)\n",
        "}\n",
        "rf=RandomForestClassifier()\n",
        "rf_random=RandomizedSearchCV(param_distributions=rf_param_grid,estimator=rf,\n",
        "                      scoring='accuracy',verbose=1,n_iter=10,cv=2)"
      ]
    },
    {
      "cell_type": "code",
      "execution_count": null,
      "metadata": {
        "colab": {
          "base_uri": "https://localhost:8080/"
        },
        "id": "6curn91wk7Yc",
        "outputId": "75435716-0b77-49a2-a997-ca0a1ae29598"
      },
      "outputs": [
        {
          "name": "stderr",
          "output_type": "stream",
          "text": [
            "/usr/local/lib/python3.8/dist-packages/sklearn/model_selection/_search.py:292: UserWarning: The total space of parameters 5 is smaller than n_iter=10. Running 5 iterations. For exhaustive searches, use GridSearchCV.\n",
            "  warnings.warn(\n"
          ]
        },
        {
          "name": "stdout",
          "output_type": "stream",
          "text": [
            "Fitting 2 folds for each of 5 candidates, totalling 10 fits\n"
          ]
        },
        {
          "data": {
            "text/plain": [
              "RandomizedSearchCV(cv=2, estimator=RandomForestClassifier(),\n",
              "                   param_distributions={'n_estimators': range(1, 500, 100)},\n",
              "                   scoring='accuracy', verbose=1)"
            ]
          },
          "execution_count": 75,
          "metadata": {},
          "output_type": "execute_result"
        }
      ],
      "source": [
        "rf_random.fit(X_train,y_train)\n"
      ]
    },
    {
      "cell_type": "code",
      "execution_count": null,
      "metadata": {
        "colab": {
          "base_uri": "https://localhost:8080/"
        },
        "id": "D7lzeV6flXed",
        "outputId": "4d7c6a2e-2285-4fb1-9085-bae5c26ffc6a"
      },
      "outputs": [
        {
          "name": "stdout",
          "output_type": "stream",
          "text": [
            "Accuracy=0.8989087301587302\n"
          ]
        }
      ],
      "source": [
        "y_pred_rf=rf_random.predict(X_test)\n",
        "print(f'Accuracy={np.sum(y_pred_rf==y_test)/len(y_test)}')"
      ]
    },
    {
      "attachments": {},
      "cell_type": "markdown",
      "metadata": {
        "id": "cWejerpcyCtU"
      },
      "source": [
        "One limitation of this analysis was that the model was trained for a limited number of iterations due to the availability of GPU resources. This may have resulted in sub-optimal performance and could be a potential area for further improvement. To address this limitation, additional computational resources such as a more powerful GPU could be utilized to increase the number of training iterations and improve model performance.  "
      ]
    }
  ],
  "metadata": {
    "accelerator": "GPU",
    "colab": {
      "provenance": []
    },
    "gpuClass": "standard",
    "kernelspec": {
      "display_name": "Python 3",
      "name": "python3"
    },
    "language_info": {
      "name": "python"
    }
  },
  "nbformat": 4,
  "nbformat_minor": 0
}
